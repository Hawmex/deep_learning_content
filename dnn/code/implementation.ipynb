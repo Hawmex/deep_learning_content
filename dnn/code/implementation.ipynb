{
 "cells": [
  {
   "cell_type": "markdown",
   "metadata": {},
   "source": [
    "<div align=center>\n",
    "\n",
    "# Implementing a Deep Neural Network\n",
    "\n",
    "By Hamed Araab\n",
    "\n",
    "Supervisor: Dr. Marzieh Zarinbal\n",
    "\n",
    "</div>\n"
   ]
  },
  {
   "cell_type": "markdown",
   "metadata": {},
   "source": [
    "## Introduction\n",
    "\n",
    "This notebook demonstrates a basic implementation of deep neural networks (DNNs)\n",
    "based on the specifications of `reference.pdf`.\n"
   ]
  },
  {
   "cell_type": "markdown",
   "metadata": {},
   "source": [
    "## Required Libraries\n",
    "\n",
    "First of all, let's import the required libraries:\n"
   ]
  },
  {
   "cell_type": "code",
   "execution_count": 1,
   "metadata": {},
   "outputs": [],
   "source": [
    "import math\n",
    "import numpy as np"
   ]
  },
  {
   "cell_type": "markdown",
   "metadata": {},
   "source": [
    "## Deep Neural Network\n",
    "\n",
    "In this section, we implement two main classes:\n",
    "\n",
    "- `FullyConnectedLayer`, which will be used to declare a layer in the network,\n",
    "  and\n",
    "- `NeuralNetwork`, which will be used to declare the network itself.\n"
   ]
  },
  {
   "cell_type": "code",
   "execution_count": 2,
   "metadata": {},
   "outputs": [],
   "source": [
    "class FullyConnectedLayer:\n",
    "    def __init__(self, units, activation_function):\n",
    "        self.units = units\n",
    "        self.activation_function = activation_function\n",
    "\n",
    "\n",
    "class NeuralNetwork:\n",
    "    @staticmethod\n",
    "    def get_initial_parameters(shape, low=-1, high=1):\n",
    "        return np.random.rand(*shape) * (high - low) + low\n",
    "\n",
    "    def __init__(self, input_size, layers, loss_function, learning_rate):\n",
    "        self.input_size = input_size\n",
    "        self.number_of_layers = len(layers)\n",
    "        self.loss_function = loss_function\n",
    "        self.learning_rate = learning_rate\n",
    "\n",
    "        self.layers = {l + 1: layers[l] for l in range(self.number_of_layers)}\n",
    "\n",
    "        self.weights = {\n",
    "            1: NeuralNetwork.get_initial_parameters(\n",
    "                (self.input_size, self.layers[1].units)\n",
    "            ),\n",
    "        } | {\n",
    "            l: NeuralNetwork.get_initial_parameters(\n",
    "                (self.layers[l - 1].units, self.layers[l].units),\n",
    "            )\n",
    "            for l in range(2, self.number_of_layers + 1)\n",
    "        }\n",
    "\n",
    "        self.biases = {\n",
    "            l: NeuralNetwork.get_initial_parameters((1, self.layers[l].units))\n",
    "            for l in range(1, self.number_of_layers + 1)\n",
    "        }\n",
    "\n",
    "    @property\n",
    "    def trainable_parameters(self):\n",
    "        params = 0\n",
    "\n",
    "        for l in range(1, self.number_of_layers + 1):\n",
    "            prev_units = self.input_size if l == 1 else self.layers[l - 1].units\n",
    "            current_units = self.layers[l].units\n",
    "\n",
    "            # Weights\n",
    "            params += prev_units * current_units\n",
    "\n",
    "            # Biases\n",
    "            params += current_units\n",
    "\n",
    "        return params\n",
    "\n",
    "    # Forward Propagation\n",
    "    def predict(self, X, return_objects=False):\n",
    "        Z = {}\n",
    "        A = {0: X}\n",
    "\n",
    "        for l in range(1, self.number_of_layers + 1):\n",
    "            Z[l] = A[l - 1] @ self.weights[l] + self.biases[l]\n",
    "            A[l] = self.layers[l].activation_function.get_activation(Z[l])\n",
    "\n",
    "        if return_objects:\n",
    "            return Z, A\n",
    "        else:\n",
    "            Y_hat = A[self.number_of_layers]\n",
    "\n",
    "            return Y_hat\n",
    "\n",
    "    # Training Phase (Forward and Backward Propagation)\n",
    "    def train(self, X, Y, epochs=10, batch_size=32, test_data=None):\n",
    "        print(\"Starting the training process...\")\n",
    "        print(f\"Trainable parameters: {self.trainable_parameters}\")\n",
    "\n",
    "        n, _ = X.shape\n",
    "\n",
    "        for epoch in range(epochs):\n",
    "            # Shuffle the training data for each epoch\n",
    "            permutation = np.random.permutation(n)\n",
    "\n",
    "            X_shuffled = X[permutation, :]\n",
    "            Y_shuffled = Y[permutation, :]\n",
    "\n",
    "            batches = math.ceil(n / batch_size)\n",
    "\n",
    "            cost_epoch = 0\n",
    "\n",
    "            for batch in range(batches):\n",
    "                start_index = batch * batch_size\n",
    "                end_index = start_index + batch_size\n",
    "\n",
    "                X_batch = X_shuffled[start_index:end_index, :]\n",
    "                Y_batch = Y_shuffled[start_index:end_index, :]\n",
    "\n",
    "                Z_batch, A_batch = self.predict(X_batch, return_objects=True)\n",
    "\n",
    "                Y_hat_batch = A_batch[self.number_of_layers]\n",
    "\n",
    "                loss_batch = self.loss_function.get_loss(Y_batch, Y_hat_batch)\n",
    "                cost_epoch += loss_batch / n\n",
    "\n",
    "                self.update_parameters(Y_batch, Z_batch, A_batch)\n",
    "\n",
    "            details = (\n",
    "                f\"Epoch: {epoch + 1}/{epochs}, cost: {'{:.3f}'.format(cost_epoch)}\"\n",
    "            )\n",
    "\n",
    "            if test_data is not None:\n",
    "                X_test, Y_test = test_data\n",
    "\n",
    "                n_test, _ = X_test.shape\n",
    "\n",
    "                Y_hat_test = self.predict(X_test)\n",
    "\n",
    "                cost_test_epoch = (\n",
    "                    self.loss_function.get_loss(Y_test, Y_hat_test) / n_test\n",
    "                )\n",
    "\n",
    "                details += f\", cost_test: {'{:.3f}'.format(cost_test_epoch)}\"\n",
    "\n",
    "            print(details)\n",
    "\n",
    "    # Backward Propagation\n",
    "    def update_parameters(self, Y, Z, A):\n",
    "        n, _ = Y.shape\n",
    "\n",
    "        Y_hat = A[self.number_of_layers]\n",
    "\n",
    "        dC_dY_hat = self.loss_function.get_derivative(Y, Y_hat) / n\n",
    "\n",
    "        dC_dA = {self.number_of_layers: dC_dY_hat}\n",
    "\n",
    "        for l in range(self.number_of_layers, 0, -1):\n",
    "            delta = np.tensordot(\n",
    "                dC_dA[l],\n",
    "                self.layers[l].activation_function.get_derivative(Z[l]),\n",
    "            )\n",
    "\n",
    "            dC_dW = A[l - 1].T @ delta\n",
    "            dC_db = np.ones((1, n)) @ delta\n",
    "\n",
    "            self.weights[l] -= self.learning_rate * dC_dW\n",
    "            self.biases[l] -= self.learning_rate * dC_db\n",
    "\n",
    "            if l > 1:\n",
    "                dC_dA[l - 1] = delta @ self.weights[l].T"
   ]
  },
  {
   "cell_type": "markdown",
   "metadata": {},
   "source": [
    "## Activation Functions\n",
    "\n",
    "Now, we are going to write down the activation functions based on the following\n",
    "class:\n"
   ]
  },
  {
   "cell_type": "code",
   "execution_count": 3,
   "metadata": {},
   "outputs": [],
   "source": [
    "class ActivationFunction:\n",
    "    def get_activation(self, Z_l):\n",
    "        pass\n",
    "\n",
    "    def get_derivative(self, Z_l):\n",
    "        pass"
   ]
  },
  {
   "cell_type": "markdown",
   "metadata": {},
   "source": [
    "Further on, you are going to see that two versions of `get_derivative` are\n",
    "implemented for each activation function. The first one uses a for-loop and is\n",
    "commented out due to being extremely slow. The second one is quite fast since it\n",
    "uses a vectorized approach.\n"
   ]
  },
  {
   "cell_type": "markdown",
   "metadata": {},
   "source": [
    "### Rectified Linear Unit (ReLU)\n"
   ]
  },
  {
   "cell_type": "code",
   "execution_count": 4,
   "metadata": {},
   "outputs": [],
   "source": [
    "class ReLU(ActivationFunction):\n",
    "    def get_activation(self, Z_l):\n",
    "        return np.maximum(0, Z_l)\n",
    "\n",
    "    def get_derivative(self, Z_l):\n",
    "        # n, m = Z_l.shape\n",
    "\n",
    "        # derivative = np.zeros((n, m, n, m))\n",
    "\n",
    "        # for (i, j, u, v), _ in np.ndenumerate(derivative):\n",
    "        #     if i == u and j == v and Z_l[i, j] > 0:\n",
    "        #         derivative[i, j, u, v] = 1\n",
    "\n",
    "        # return derivative\n",
    "\n",
    "        n, m = Z_l.shape\n",
    "        i, j = np.indices((n, m))\n",
    "\n",
    "        Z_l[Z_l > 0] = 1\n",
    "        Z_l[Z_l <= 0] = 0\n",
    "\n",
    "        derivative = np.zeros((n, m, n, m))\n",
    "\n",
    "        derivative[i, j, i, j] = Z_l[i, j]\n",
    "\n",
    "        return derivative"
   ]
  },
  {
   "cell_type": "markdown",
   "metadata": {},
   "source": [
    "### Sigmoid\n"
   ]
  },
  {
   "cell_type": "code",
   "execution_count": 5,
   "metadata": {},
   "outputs": [],
   "source": [
    "class Sigmoid(ActivationFunction):\n",
    "    def get_activation(self, Z_l):\n",
    "        return 1 / (1 + np.exp(-Z_l))\n",
    "\n",
    "    def get_derivative(self, Z_l):\n",
    "        # n, m = Z_l.shape\n",
    "\n",
    "        # derivative = np.zeros((n, m, n, m))\n",
    "\n",
    "        # A_l = self.get_activation(Z_l)\n",
    "\n",
    "        # for (i, j, u, v), _ in np.ndenumerate(derivative):\n",
    "        #     if i == u and j == v:\n",
    "        #         derivative[i, j, u, v] = A_l[i, j] * (1 - A_l[i, j])\n",
    "\n",
    "        # return derivative\n",
    "\n",
    "        n, m = Z_l.shape\n",
    "        i, j = np.indices((n, m))\n",
    "\n",
    "        derivative = np.zeros((n, m, n, m))\n",
    "\n",
    "        A_l = self.get_activation(Z_l)\n",
    "\n",
    "        derivative[i, j, i, j] = A_l[i, j] * (1 - A_l[i, j])\n",
    "\n",
    "        return derivative"
   ]
  },
  {
   "cell_type": "markdown",
   "metadata": {},
   "source": [
    "### Softmax\n"
   ]
  },
  {
   "cell_type": "code",
   "execution_count": 6,
   "metadata": {},
   "outputs": [],
   "source": [
    "class Softmax(ActivationFunction):\n",
    "    def get_activation(self, Z_l):\n",
    "        exp_Z_l = np.exp(Z_l)\n",
    "\n",
    "        return exp_Z_l / np.sum(exp_Z_l, axis=1, keepdims=True)\n",
    "\n",
    "    def get_derivative(self, Z_l):\n",
    "        # n, m = Z_l.shape\n",
    "\n",
    "        # derivative = np.zeros((n, m, n, m))\n",
    "\n",
    "        # A_l = self.get_activation(Z_l)\n",
    "\n",
    "        # for (i, j, u, v), _ in np.ndenumerate(derivative):\n",
    "        #     if i == u:\n",
    "        #         if j == v:\n",
    "        #             derivative[i, j, u, v] = A_l[i, j] * (1 - A_l[i, j])\n",
    "        #         else:\n",
    "        #             derivative[i, j, u, v] = -A_l[i, j] * A_l[i, v]\n",
    "\n",
    "        # return derivative\n",
    "\n",
    "        n, m = Z_l.shape\n",
    "        i, j, v = np.indices((n, m, m))\n",
    "\n",
    "        derivative = np.zeros((n, m, n, m))\n",
    "\n",
    "        A_l = self.get_activation(Z_l)\n",
    "\n",
    "        derivative[i, j, i, v] = -A_l[i, j] * A_l[i, v]\n",
    "        derivative[i, j, i, j] += A_l[i, j]\n",
    "\n",
    "        return derivative"
   ]
  },
  {
   "cell_type": "markdown",
   "metadata": {},
   "source": [
    "## Loss Functions\n",
    "\n",
    "Similarly, we will be implementing the loss functions based on this class:\n"
   ]
  },
  {
   "cell_type": "code",
   "execution_count": 7,
   "metadata": {},
   "outputs": [],
   "source": [
    "class LossFunction:\n",
    "    def get_loss(self, Y, Y_hat):\n",
    "        pass\n",
    "\n",
    "    def get_derivative(self, Y, Y_hat):\n",
    "        pass"
   ]
  },
  {
   "cell_type": "markdown",
   "metadata": {},
   "source": [
    "### Sum of Squared Errors (SSE)\n"
   ]
  },
  {
   "cell_type": "code",
   "execution_count": 8,
   "metadata": {},
   "outputs": [],
   "source": [
    "class SSELoss(LossFunction):\n",
    "    def get_loss(self, Y, Y_hat):\n",
    "        return 1 / 2 * np.sum((Y_hat - Y) ** 2)\n",
    "\n",
    "    def get_derivative(self, Y, Y_hat):\n",
    "        return Y_hat - Y"
   ]
  },
  {
   "cell_type": "markdown",
   "metadata": {},
   "source": [
    "### Binary Cross Entropy (BCE)\n"
   ]
  },
  {
   "cell_type": "code",
   "execution_count": 9,
   "metadata": {},
   "outputs": [],
   "source": [
    "class BCELoss(LossFunction):\n",
    "    def get_loss(self, Y, Y_hat):\n",
    "        return -np.sum((Y * np.log(Y_hat) + (1 - Y) * np.log(1 - Y_hat)))\n",
    "\n",
    "    def get_derivative(self, Y, Y_hat):\n",
    "        return (Y_hat - Y) / (Y_hat * (1 - Y_hat))"
   ]
  },
  {
   "cell_type": "markdown",
   "metadata": {},
   "source": [
    "### Categorical Cross Entropy (CCE)\n"
   ]
  },
  {
   "cell_type": "code",
   "execution_count": 10,
   "metadata": {},
   "outputs": [],
   "source": [
    "class CCELoss(LossFunction):\n",
    "    def get_loss(self, Y, Y_hat):\n",
    "        return -np.sum((Y * np.log(Y_hat)))\n",
    "\n",
    "    def get_derivative(self, Y, Y_hat):\n",
    "        return -Y / Y_hat"
   ]
  }
 ],
 "metadata": {
  "kernelspec": {
   "display_name": "Python 3 (ipykernel)",
   "language": "python",
   "name": "python3"
  },
  "language_info": {
   "codemirror_mode": {
    "name": "ipython",
    "version": 3
   },
   "file_extension": ".py",
   "mimetype": "text/x-python",
   "name": "python",
   "nbconvert_exporter": "python",
   "pygments_lexer": "ipython3",
   "version": "3.12.2"
  }
 },
 "nbformat": 4,
 "nbformat_minor": 2
}
