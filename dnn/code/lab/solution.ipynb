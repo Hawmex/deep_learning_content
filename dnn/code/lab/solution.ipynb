{
 "cells": [
  {
   "cell_type": "markdown",
   "metadata": {},
   "source": [
    "<div align=center>\n",
    "\n",
    "# Handwritten Digit Classification\n",
    "\n",
    "By Hamed Araab\n",
    "\n",
    "Supervisor: Dr. Marzieh Zarinbal\n",
    "\n",
    "</div>\n"
   ]
  },
  {
   "cell_type": "markdown",
   "metadata": {},
   "source": [
    "## Description\n",
    "\n",
    "In this mini-project, you are given the MNIST dataset which contains `28×28`\n",
    "black-and-white images of handwritten digits. The train and test splits contain\n",
    "`60,000` and `10,000` images, respectively.\n",
    "\n",
    "You are asked to develop and train a deep neural network (DNN) to tackle this\n",
    "task using the implementation that you learned earlier. Remember to choose the\n",
    "hyperparameters of your model, especially the activation and loss functions,\n",
    "according to the type of the challenge you are facing.\n"
   ]
  },
  {
   "cell_type": "markdown",
   "metadata": {},
   "source": [
    "## Setup\n",
    "\n",
    "First of all, set up the environment.\n"
   ]
  },
  {
   "cell_type": "code",
   "execution_count": 43,
   "metadata": {},
   "outputs": [],
   "source": [
    "%run ../implementation.ipynb"
   ]
  },
  {
   "cell_type": "code",
   "execution_count": 44,
   "metadata": {},
   "outputs": [],
   "source": [
    "import tensorflow.keras as keras\n",
    "import matplotlib.pyplot as plt\n",
    "\n",
    "from keras.datasets import mnist\n",
    "from keras.utils import to_categorical"
   ]
  },
  {
   "cell_type": "code",
   "execution_count": 45,
   "metadata": {},
   "outputs": [],
   "source": [
    "np.set_printoptions(formatter={\"float\": lambda x: \"{:.2f}\".format(x)})"
   ]
  },
  {
   "cell_type": "markdown",
   "metadata": {},
   "source": [
    "## Dataset\n",
    "\n",
    "Load the train and test splits using the `mnist` module.\n"
   ]
  },
  {
   "cell_type": "code",
   "execution_count": 46,
   "metadata": {},
   "outputs": [],
   "source": [
    "(X_train, Y_train), (X_test, Y_test) = mnist.load_data()"
   ]
  },
  {
   "cell_type": "markdown",
   "metadata": {},
   "source": [
    "You can see that each row represents an image.\n"
   ]
  },
  {
   "cell_type": "code",
   "execution_count": 47,
   "metadata": {},
   "outputs": [
    {
     "data": {
      "text/plain": [
       "((60000, 28, 28), (60000,), (10000, 28, 28), (10000,))"
      ]
     },
     "execution_count": 47,
     "metadata": {},
     "output_type": "execute_result"
    }
   ],
   "source": [
    "X_train.shape, Y_train.shape, X_test.shape, Y_test.shape"
   ]
  },
  {
   "cell_type": "markdown",
   "metadata": {},
   "source": [
    "## Data Preprocessing\n",
    "\n",
    "You must change the data in various ways before feeding it to a neural network\n",
    "since it's not suitable at the current stage.\n"
   ]
  },
  {
   "cell_type": "markdown",
   "metadata": {},
   "source": [
    "### Normalization\n",
    "\n",
    "First you must normalize the input matrices.\n"
   ]
  },
  {
   "cell_type": "code",
   "execution_count": 48,
   "metadata": {},
   "outputs": [
    {
     "data": {
      "text/plain": [
       "(0, 255)"
      ]
     },
     "execution_count": 48,
     "metadata": {},
     "output_type": "execute_result"
    }
   ],
   "source": [
    "X_train.min(), X_train.max()"
   ]
  },
  {
   "cell_type": "code",
   "execution_count": 49,
   "metadata": {},
   "outputs": [],
   "source": [
    "X_train = X_train / 255\n",
    "X_test = X_test / 255"
   ]
  },
  {
   "cell_type": "code",
   "execution_count": 50,
   "metadata": {},
   "outputs": [
    {
     "data": {
      "text/plain": [
       "(0.0, 1.0)"
      ]
     },
     "execution_count": 50,
     "metadata": {},
     "output_type": "execute_result"
    }
   ],
   "source": [
    "X_train.min(), X_train.max()"
   ]
  },
  {
   "cell_type": "markdown",
   "metadata": {},
   "source": [
    "### One-Hot Encoding\n",
    "\n",
    "Then you should perform one-hot encoding on the `1` to `9` values in the output\n",
    "matrices, transforming them to categorical data. Try using `to_categorical`.\n"
   ]
  },
  {
   "cell_type": "code",
   "execution_count": 51,
   "metadata": {},
   "outputs": [
    {
     "data": {
      "text/plain": [
       "((60000, 10), (10000, 10))"
      ]
     },
     "execution_count": 51,
     "metadata": {},
     "output_type": "execute_result"
    }
   ],
   "source": [
    "Y_train = to_categorical(Y_train)\n",
    "Y_test = to_categorical(Y_test)\n",
    "\n",
    "Y_train.shape, Y_test.shape"
   ]
  },
  {
   "cell_type": "markdown",
   "metadata": {},
   "source": [
    "### Flattening Images\n",
    "\n",
    "You must transform each `28×28` image to an array with shape `(1, 784)`.\n"
   ]
  },
  {
   "cell_type": "code",
   "execution_count": 52,
   "metadata": {},
   "outputs": [
    {
     "data": {
      "text/plain": [
       "((60000, 784), (10000, 784))"
      ]
     },
     "execution_count": 52,
     "metadata": {},
     "output_type": "execute_result"
    }
   ],
   "source": [
    "X_train = X_train.reshape((60000, 784))\n",
    "X_test = X_test.reshape((10000, 784))\n",
    "\n",
    "X_train.shape, X_test.shape"
   ]
  },
  {
   "cell_type": "markdown",
   "metadata": {},
   "source": [
    "## Data Visualization\n",
    "\n",
    "To get an idea of how the images look like, you can see some of them with their\n",
    "labels below.\n"
   ]
  },
  {
   "cell_type": "code",
   "execution_count": 53,
   "metadata": {},
   "outputs": [
    {
     "data": {
      "image/png": "[encoded data removed]",
      "text/plain": [
       "<Figure size 1200x600 with 8 Axes>"
      ]
     },
     "metadata": {},
     "output_type": "display_data"
    }
   ],
   "source": [
    "sample_images = X_test[:8, :].reshape(8, 28, 28)\n",
    "sample_labels = Y_test[:8, :]\n",
    "\n",
    "plt.figure(figsize=(12, 6))\n",
    "\n",
    "for i in range(sample_images.shape[0]):\n",
    "    plt.subplot(2, 4, i + 1)\n",
    "    plt.imshow(sample_images[i, :, :], cmap=\"gray\")\n",
    "    plt.title(f\"Label: {sample_labels[i, :].argmax()}\")\n",
    "    plt.axis(\"off\")\n",
    "\n",
    "plt.show()"
   ]
  },
  {
   "cell_type": "markdown",
   "metadata": {},
   "source": [
    "## DNN Development\n",
    "\n",
    "Now that you have prepared your data to be fed to a DNN, you can declare your\n",
    "model with the hyperparameters of your choice.\n"
   ]
  },
  {
   "cell_type": "code",
   "execution_count": 54,
   "metadata": {},
   "outputs": [
    {
     "name": "stdout",
     "output_type": "stream",
     "text": [
      "Starting the training process...\n",
      "Trainable parameters: 11350\n",
      "Epoch: 1/10, cost: 1.096, cost_test: 0.564\n",
      "Epoch: 2/10, cost: 0.494, cost_test: 0.416\n",
      "Epoch: 3/10, cost: 0.390, cost_test: 0.355\n",
      "Epoch: 4/10, cost: 0.336, cost_test: 0.316\n",
      "Epoch: 5/10, cost: 0.300, cost_test: 0.301\n",
      "Epoch: 6/10, cost: 0.274, cost_test: 0.273\n",
      "Epoch: 7/10, cost: 0.256, cost_test: 0.270\n",
      "Epoch: 8/10, cost: 0.242, cost_test: 0.256\n",
      "Epoch: 9/10, cost: 0.232, cost_test: 0.246\n",
      "Epoch: 10/10, cost: 0.222, cost_test: 0.245\n"
     ]
    }
   ],
   "source": [
    "np.random.seed(1)\n",
    "\n",
    "model = NeuralNetwork(\n",
    "    input_size=784,\n",
    "    layers=[\n",
    "        FullyConnectedLayer(units=14, activation_function=Sigmoid()),\n",
    "        FullyConnectedLayer(units=14, activation_function=Sigmoid()),\n",
    "        FullyConnectedLayer(units=10, activation_function=Softmax()),\n",
    "    ],\n",
    "    loss_function=CCELoss(),\n",
    "    learning_rate=0.2,\n",
    ")\n",
    "\n",
    "model.train(\n",
    "    X_train,\n",
    "    Y_train,\n",
    "    epochs=10,\n",
    "    batch_size=32,\n",
    "    test_data=(X_test, Y_test),\n",
    ")"
   ]
  },
  {
   "cell_type": "markdown",
   "metadata": {},
   "source": [
    "Let's see what is your model's predictions for the images we sampled earlier.\n"
   ]
  },
  {
   "cell_type": "code",
   "execution_count": 55,
   "metadata": {},
   "outputs": [
    {
     "name": "stdout",
     "output_type": "stream",
     "text": [
      "Predicted Labels: [[7]\n",
      " [2]\n",
      " [1]\n",
      " [0]\n",
      " [4]\n",
      " [1]\n",
      " [4]\n",
      " [9]]\n",
      "\n",
      "Prediction Matrix:\n",
      "[[0.00 0.00 0.00 0.00 0.00 0.00 0.00 1.00 0.00 0.00]\n",
      " [0.00 0.00 0.96 0.04 0.00 0.00 0.00 0.00 0.00 0.00]\n",
      " [0.00 1.00 0.00 0.00 0.00 0.00 0.00 0.00 0.00 0.00]\n",
      " [0.99 0.00 0.00 0.00 0.00 0.00 0.00 0.00 0.00 0.00]\n",
      " [0.00 0.00 0.00 0.00 1.00 0.00 0.00 0.00 0.00 0.00]\n",
      " [0.00 1.00 0.00 0.00 0.00 0.00 0.00 0.00 0.00 0.00]\n",
      " [0.00 0.00 0.00 0.00 1.00 0.00 0.00 0.00 0.00 0.00]\n",
      " [0.00 0.00 0.00 0.00 0.04 0.00 0.00 0.00 0.00 0.95]]\n"
     ]
    }
   ],
   "source": [
    "Y_sample_hat = model.predict(sample_images.reshape(8, 784))\n",
    "sample_predict_labels = Y_sample_hat.argmax(axis=1, keepdims=True)\n",
    "\n",
    "print(f\"Predicted Labels: {sample_predict_labels}\")\n",
    "print(f\"\\nPrediction Matrix:\\n{Y_sample_hat}\")"
   ]
  }
 ],
 "metadata": {
  "kernelspec": {
   "display_name": "Python 3",
   "language": "python",
   "name": "python3"
  },
  "language_info": {
   "codemirror_mode": {
    "name": "ipython",
    "version": 3
   },
   "file_extension": ".py",
   "mimetype": "text/x-python",
   "name": "python",
   "nbconvert_exporter": "python",
   "pygments_lexer": "ipython3",
   "version": "3.12.2"
  }
 },
 "nbformat": 4,
 "nbformat_minor": 2
}
